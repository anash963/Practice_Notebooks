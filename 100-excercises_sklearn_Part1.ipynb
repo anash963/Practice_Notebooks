{
 "cells": [
  {
   "cell_type": "markdown",
   "id": "5e029c02",
   "metadata": {},
   "source": [
    "#### Ex 0\n",
    "Import the scikit-learn package and print its version to the console.\n",
    "\n",
    "\n",
    "\n",
    "Expected result:\n",
    "\n",
    "\n",
    "\n",
    "0.23.0"
   ]
  },
  {
   "cell_type": "code",
   "execution_count": 1,
   "id": "0d674550",
   "metadata": {},
   "outputs": [
    {
     "name": "stdout",
     "output_type": "stream",
     "text": [
      "1.3.0\n"
     ]
    }
   ],
   "source": [
    "import sklearn\n",
    "print(format(sklearn.__version__))"
   ]
  },
  {
   "cell_type": "markdown",
   "id": "c89fa833",
   "metadata": {},
   "source": [
    "#### Ex 1\n",
    "\n",
    "The following dictionary is given:\n",
    "\n",
    "\n",
    "\n",
    "data = {\n",
    "    'size': ['XL', 'L', 'M', np.nan, 'M', 'M'],\n",
    "    'color': ['red', 'green', 'blue', 'green', 'red', 'green'],\n",
    "    'gender': ['female', 'male', np.nan, 'female', 'female', 'male'],\n",
    "    'price': [199.0, 89.0, np.nan, 129.0, 79.0, 89.0],\n",
    "    'weight': [500, 450, 300, np.nan, 410, np.nan],\n",
    "    'bought': ['yes', 'no', 'yes', 'no', 'yes', 'no']\n",
    "}\n",
    "\n",
    "From this dictionary create a DataFrame object and assign to the df variable.\n",
    "\n",
    "Then check for the missing values for each column (in percent) and print it to console as shown below. Round the result to two decimal places.\n",
    "\n",
    "\n",
    "\n",
    "Expected result:\n",
    "\n",
    "\n",
    "\n",
    "size      0.17\n",
    "color     0.00\n",
    "gender    0.17\n",
    "price     0.17\n",
    "weight    0.33\n",
    "bought    0.00\n",
    "dtype: float64"
   ]
  },
  {
   "cell_type": "code",
   "execution_count": 5,
   "id": "f0e3c38d",
   "metadata": {},
   "outputs": [
    {
     "name": "stdout",
     "output_type": "stream",
     "text": [
      "size      0.17\n",
      "color     0.00\n",
      "gender    0.17\n",
      "price     0.17\n",
      "weight    0.33\n",
      "bought    0.00\n",
      "dtype: float64\n"
     ]
    }
   ],
   "source": [
    "import numpy as np\n",
    "import pandas as pd\n",
    " \n",
    " \n",
    "data = {\n",
    "    'size': ['XL', 'L', 'M', np.nan, 'M', 'M'],\n",
    "    'color': ['red', 'green', 'blue', 'green', 'red', 'green'],\n",
    "    'gender': ['female', 'male', np.nan, 'female', 'female', 'male'],\n",
    "    'price': [199.0, 89.0, np.nan, 129.0, 79.0, 89.0],\n",
    "    'weight': [500, 450, 300, np.nan, 410, np.nan],\n",
    "    'bought': ['yes', 'no', 'yes', 'no', 'yes', 'no']\n",
    "}\n",
    " \n",
    "df = pd.DataFrame(data=data)\n",
    "print(np.round(df.isnull().sum() / len(df), 2))"
   ]
  },
  {
   "cell_type": "markdown",
   "id": "31b37d65",
   "metadata": {},
   "source": [
    "#### Exercise 2\n",
    "\n",
    "The following df DataFrame is given:\n",
    "\n",
    "\n",
    "\n",
    "  size  color  gender  price  weight bought\n",
    "0   XL    red  female  199.0   500.0    yes\n",
    "1    L  green    male   89.0   450.0     no\n",
    "2    M   blue     NaN    NaN   300.0    yes\n",
    "3  NaN  green  female  129.0     NaN     no\n",
    "4    M    red  female   79.0   410.0    yes\n",
    "5    M  green    male   89.0     NaN     no\n",
    "\n",
    "\n",
    "Using the scikit-learn package and the SimpleImputer class, fill in the missing data for the column weight with the average value. Assign changes to the df DataFrame.\n",
    "\n",
    "In response, print the df DataFrame to the console.\n",
    "\n",
    "\n",
    "\n",
    "Tip: More about the SimpleImputer class: https://scikit-learn.org/stable/modules/generated/sklearn.impute.SimpleImputer.html\n",
    "\n",
    "\n",
    "\n",
    "Expected result:\n",
    "\n",
    "\n",
    "\n",
    "  size  color  gender  price  weight bought\n",
    "0   XL    red  female  199.0   500.0    yes\n",
    "1    L  green    male   89.0   450.0     no\n",
    "2    M   blue     NaN    NaN   300.0    yes\n",
    "3  NaN  green  female  129.0   415.0     no\n",
    "4    M    red  female   79.0   410.0    yes\n",
    "5    M  green    male   89.0   415.0     no"
   ]
  },
  {
   "cell_type": "code",
   "execution_count": 8,
   "id": "7cec207a",
   "metadata": {},
   "outputs": [
    {
     "name": "stdout",
     "output_type": "stream",
     "text": [
      "  size  color  gender  price  weight bought\n",
      "0   XL    red  female  199.0   500.0    yes\n",
      "1    L  green    male   89.0   450.0     no\n",
      "2    M   blue     NaN    NaN   300.0    yes\n",
      "3  NaN  green  female  129.0   415.0     no\n",
      "4    M    red  female   79.0   410.0    yes\n",
      "5    M  green    male   89.0   415.0     no\n"
     ]
    }
   ],
   "source": [
    "import numpy as np\n",
    "import pandas as pd\n",
    "from sklearn.impute import SimpleImputer\n",
    "\n",
    "\n",
    "data = {\n",
    "    'size': ['XL', 'L', 'M', np.nan, 'M', 'M'],\n",
    "    'color': ['red', 'green', 'blue', 'green', 'red', 'green'],\n",
    "    'gender': ['female', 'male', np.nan, 'female', 'female', 'male'],\n",
    "    'price': [199.0, 89.0, np.nan, 129.0, 79.0, 89.0],\n",
    "    'weight': [500, 450, 300, np.nan, 410, np.nan],\n",
    "    'bought': ['yes', 'no', 'yes', 'no', 'yes', 'no']\n",
    "}\n",
    "\n",
    "df = pd.DataFrame(data=data)\n",
    "\n",
    "imputer = SimpleImputer(missing_values=np.nan, strategy='mean')\n",
    "df[['weight']] = imputer.fit_transform(df[['weight']])\n",
    "print(df)"
   ]
  },
  {
   "cell_type": "markdown",
   "id": "46f980c2",
   "metadata": {},
   "source": [
    "#### Ex3\n",
    "Print the average value that was replaced with the missing values in the weight column."
   ]
  },
  {
   "cell_type": "code",
   "execution_count": 9,
   "id": "b5e85992",
   "metadata": {},
   "outputs": [
    {
     "name": "stdout",
     "output_type": "stream",
     "text": [
      "415.0\n"
     ]
    }
   ],
   "source": [
    "print(imputer.statistics_[0])"
   ]
  },
  {
   "cell_type": "markdown",
   "id": "1d117365",
   "metadata": {},
   "source": [
    "#### Ex 4\n",
    "\n",
    "Using the scikit-learn package and the SimpleImputer class, fill in the missing data for the price column with a constant value = 99.0.\n",
    "\n",
    "Assign changes to the df DataFrame. In response, print the df DataFrame to the console as shown below.\n",
    "\n"
   ]
  },
  {
   "cell_type": "code",
   "execution_count": 12,
   "id": "d8594068",
   "metadata": {},
   "outputs": [
    {
     "name": "stdout",
     "output_type": "stream",
     "text": [
      "  size  color  gender  price  weight bought\n",
      "0   XL    red  female  199.0   500.0    yes\n",
      "1    L  green    male   89.0   450.0     no\n",
      "2    M   blue     NaN   99.0   300.0    yes\n",
      "3  NaN  green  female  129.0   415.0     no\n",
      "4    M    red  female   79.0   410.0    yes\n",
      "5    M  green    male   89.0   415.0     no\n"
     ]
    }
   ],
   "source": [
    "imputer = SimpleImputer(missing_values=np.nan, strategy='constant', fill_value=99.0)\n",
    "df[['price']] = imputer.fit_transform(df[['price']])\n",
    "print(df)"
   ]
  },
  {
   "cell_type": "markdown",
   "id": "52104f00",
   "metadata": {},
   "source": [
    "#### EX 5\n",
    "Using the scikit-learn package and the SimpleImputer class, fill in the missing values for the size column with the most frequent value of this column."
   ]
  },
  {
   "cell_type": "code",
   "execution_count": 13,
   "id": "5073774e",
   "metadata": {},
   "outputs": [
    {
     "name": "stdout",
     "output_type": "stream",
     "text": [
      "  size  color  gender  price  weight bought\n",
      "0   XL    red  female  199.0   500.0    yes\n",
      "1    L  green    male   89.0   450.0     no\n",
      "2    M   blue     NaN   99.0   300.0    yes\n",
      "3    M  green  female  129.0   415.0     no\n",
      "4    M    red  female   79.0   410.0    yes\n",
      "5    M  green    male   89.0   415.0     no\n"
     ]
    }
   ],
   "source": [
    "imputer = SimpleImputer(missing_values= np.nan,\n",
    "                        strategy='most_frequent')\n",
    "df[['size']] = imputer.fit_transform(df[['size']])\n",
    "print(df)"
   ]
  },
  {
   "cell_type": "markdown",
   "id": "62bef5e6",
   "metadata": {},
   "source": [
    "#### Exercise 6\n",
    "\n",
    "The following df DataFrame is given:\n",
    "\n",
    "\n",
    "\n",
    "  size  color  gender  price  weight bought\n",
    "0   XL    red  female  199.0   500.0    yes\n",
    "1    L  green    male   89.0   450.0     no\n",
    "2    M   blue     NaN    NaN   300.0    yes\n",
    "3  NaN  green  female  129.0     NaN     no\n",
    "4    M    red  female   79.0   410.0    yes\n",
    "5    M  green    male   89.0     NaN     no\n",
    "\n",
    "\n",
    "Extract all rows of the df that don't have the value np.nan in column weight. Using this rows calculate the average value for all numeric columns and print result to the console.\n",
    "\n"
   ]
  },
  {
   "cell_type": "code",
   "execution_count": 21,
   "id": "f87d5773",
   "metadata": {},
   "outputs": [
    {
     "name": "stdout",
     "output_type": "stream",
     "text": [
      "price     122.333333\n",
      "weight    415.000000\n",
      "dtype: float64\n"
     ]
    }
   ],
   "source": [
    "data = {\n",
    "    'size': ['XL', 'L', 'M', np.nan, 'M', 'M'],\n",
    "    'color': ['red', 'green', 'blue', 'green', 'red', 'green'],\n",
    "    'gender': ['female', 'male', np.nan, 'female', 'female', 'male'],\n",
    "    'price': [199.0, 89.0, np.nan, 129.0, 79.0, 89.0],\n",
    "    'weight': [500, 450, 300, np.nan, 410, np.nan],\n",
    "    'bought': ['yes', 'no', 'yes', 'no', 'yes', 'no']\n",
    "}\n",
    "\n",
    "df = pd.DataFrame(data=data)\n",
    "print(df[~df['weight'].isnull()].mean(numeric_only=True))"
   ]
  },
  {
   "cell_type": "markdown",
   "id": "5af2cd68",
   "metadata": {},
   "source": [
    "#### Exercise 7\n",
    "\n",
    "The df DataFrame is given below:\n",
    "\n",
    "\n",
    "\n",
    "  size  color  gender  price  weight bought\n",
    "0   XL    red  female  199.0   500.0    yes\n",
    "1    L  green    male   89.0   450.0     no\n",
    "2    M   blue     NaN    NaN   300.0    yes\n",
    "3  NaN  green  female  129.0     NaN     no\n",
    "4    M    red  female   79.0   410.0    yes\n",
    "5    M  green    male   89.0     NaN     no\n",
    "\n",
    "\n",
    "Extract columns of object type from this DataFrame. Then fill in all the missing values for these columns with the value 'empty'.\n",
    "\n",
    "Assign the result to the df_object variable and print it to the console.\n",
    "\n",
    "\n",
    "\n",
    "Expected result:\n",
    "\n",
    "\n",
    "\n",
    "    size  color  gender bought\n",
    "0     XL    red  female    yes\n",
    "1      L  green    male     no\n",
    "2      M   blue   empty    yes\n",
    "3  empty  green  female     no\n",
    "4      M    red  female    yes\n",
    "5      M  green    male     no\n"
   ]
  },
  {
   "cell_type": "code",
   "execution_count": 22,
   "id": "77a83e5e",
   "metadata": {},
   "outputs": [
    {
     "name": "stdout",
     "output_type": "stream",
     "text": [
      "    size  color  gender bought\n",
      "0     XL    red  female    yes\n",
      "1      L  green    male     no\n",
      "2      M   blue   empty    yes\n",
      "3  empty  green  female     no\n",
      "4      M    red  female    yes\n",
      "5      M  green    male     no\n"
     ]
    }
   ],
   "source": [
    "data = {\n",
    "    'size': ['XL', 'L', 'M', np.nan, 'M', 'M'],\n",
    "    'color': ['red', 'green', 'blue', 'green', 'red', 'green'],\n",
    "    'gender': ['female', 'male', np.nan, 'female', 'female', 'male'],\n",
    "    'price': [199.0, 89.0, np.nan, 129.0, 79.0, 89.0],\n",
    "    'weight': [500, 450, 300, np.nan, 410, np.nan],\n",
    "    'bought': ['yes', 'no', 'yes', 'no', 'yes', 'no']\n",
    "}\n",
    "\n",
    "df = pd.DataFrame(data=data)\n",
    "df_object = df.select_dtypes(include=['object']).fillna('empty')\n",
    "print(df_object)"
   ]
  },
  {
   "cell_type": "markdown",
   "id": "9d905013",
   "metadata": {},
   "source": [
    "#### Exercise 7\n",
    "\n",
    "The df DataFrame is given below:\n",
    "\n",
    "\n",
    "\n",
    "df = pd.DataFrame(data={'weight': [75., 78.5, 85., 91., 84.5, 83., 68.]})\n",
    "\n",
    "\n",
    "Discretize the weight column. Divide the values of this column into three intervals of equal width. Assign the result to a new column 'weight_cut' as shown below.\n",
    "\n",
    "In response, print the df object to the console.\n",
    "\n",
    "\n",
    "\n",
    "Expected result:\n",
    "\n",
    "\n",
    "\n",
    "   weight        weight_cut\n",
    "0    75.0  (67.977, 75.667]\n",
    "1    78.5  (75.667, 83.333]\n",
    "2    85.0    (83.333, 91.0]\n",
    "3    91.0    (83.333, 91.0]\n",
    "4    84.5    (83.333, 91.0]\n",
    "5    83.0  (75.667, 83.333]\n",
    "6    68.0  (67.977, 75.667]"
   ]
  },
  {
   "cell_type": "code",
   "execution_count": 23,
   "id": "f8e63af6",
   "metadata": {},
   "outputs": [
    {
     "name": "stdout",
     "output_type": "stream",
     "text": [
      "   weight        weight_cut\n",
      "0    75.0  (67.977, 75.667]\n",
      "1    78.5  (75.667, 83.333]\n",
      "2    85.0    (83.333, 91.0]\n",
      "3    91.0    (83.333, 91.0]\n",
      "4    84.5    (83.333, 91.0]\n",
      "5    83.0  (75.667, 83.333]\n",
      "6    68.0  (67.977, 75.667]\n"
     ]
    }
   ],
   "source": [
    "df = pd.DataFrame(data={'weight': [75., 78.5, 85., 91., 84.5, 83., 68.]})\n",
    "\n",
    "df['weight_cut'] = pd.cut(df['weight'], bins=3)\n",
    "print(df)"
   ]
  },
  {
   "cell_type": "markdown",
   "id": "6e797481",
   "metadata": {},
   "source": [
    "#### Exercise 9\n",
    "\n",
    "The df DataFrame is given below:\n",
    "\n",
    "\n",
    "\n",
    "df = pd.DataFrame(data={'weight': [75., 78.5, 85., 91., 84.5, 83., 68.]})\n",
    "\n",
    "\n",
    "Discretize the column weight into three intervals with the given boundaries:\n",
    "\n",
    "(60, 75]\n",
    "\n",
    "(75, 80]\n",
    "\n",
    "(80, 95]\n",
    "\n",
    "Assign the result to the new column 'weight_cut' as shown below.\n",
    "\n",
    "In response, print the df DataFrame to the console."
   ]
  },
  {
   "cell_type": "code",
   "execution_count": 24,
   "id": "7cf63559",
   "metadata": {},
   "outputs": [
    {
     "name": "stdout",
     "output_type": "stream",
     "text": [
      "   weight weight_cut\n",
      "0    75.0   (60, 75]\n",
      "1    78.5   (75, 80]\n",
      "2    85.0   (80, 95]\n",
      "3    91.0   (80, 95]\n",
      "4    84.5   (80, 95]\n",
      "5    83.0   (80, 95]\n",
      "6    68.0   (60, 75]\n"
     ]
    }
   ],
   "source": [
    "df = pd.DataFrame(data={'weight': [75., 78.5, 85., 91., 84.5, 83., 68.]})\n",
    "df['weight_cut'] = pd.cut(df['weight'], bins=(60, 75, 80, 95))\n",
    "print(df)"
   ]
  },
  {
   "cell_type": "code",
   "execution_count": 25,
   "id": "da1c2bff",
   "metadata": {},
   "outputs": [
    {
     "ename": "NameError",
     "evalue": "name 'light' is not defined",
     "output_type": "error",
     "traceback": [
      "\u001b[0;31m---------------------------------------------------------------------------\u001b[0m",
      "\u001b[0;31mNameError\u001b[0m                                 Traceback (most recent call last)",
      "Cell \u001b[0;32mIn[25], line 1\u001b[0m\n\u001b[0;32m----> 1\u001b[0m df[\u001b[38;5;124m'\u001b[39m\u001b[38;5;124mweight_cut\u001b[39m\u001b[38;5;124m'\u001b[39m] \u001b[38;5;241m=\u001b[39m pd\u001b[38;5;241m.\u001b[39mcut(df[\u001b[38;5;124m'\u001b[39m\u001b[38;5;124mweight\u001b[39m\u001b[38;5;124m'\u001b[39m], bins\u001b[38;5;241m=\u001b[39m(light, normal, heavy))\n\u001b[1;32m      2\u001b[0m \u001b[38;5;28mprint\u001b[39m(df)\n",
      "\u001b[0;31mNameError\u001b[0m: name 'light' is not defined"
     ]
    }
   ],
   "source": [
    "df['weight_cut'] = pd.cut(df['weight'], bins=(light, normal, heavy))\n",
    "print(df)"
   ]
  },
  {
   "cell_type": "code",
   "execution_count": null,
   "id": "fcddb76b",
   "metadata": {},
   "outputs": [],
   "source": []
  }
 ],
 "metadata": {
  "kernelspec": {
   "display_name": "Python 3 (ipykernel)",
   "language": "python",
   "name": "python3"
  },
  "language_info": {
   "codemirror_mode": {
    "name": "ipython",
    "version": 3
   },
   "file_extension": ".py",
   "mimetype": "text/x-python",
   "name": "python",
   "nbconvert_exporter": "python",
   "pygments_lexer": "ipython3",
   "version": "3.11.4"
  }
 },
 "nbformat": 4,
 "nbformat_minor": 5
}
