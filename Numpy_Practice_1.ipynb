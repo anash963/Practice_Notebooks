{
 "cells": [
  {
   "cell_type": "markdown",
   "id": "23a700f1",
   "metadata": {},
   "source": [
    "### ndarray\n",
    "\n",
    "An ndarray is a multi-dimensional array with items of the same type and size.\n",
    "\n",
    "Dimensions and items are defined by a tuple of N non-negative integers specifying each dimension’s size.\n",
    "\n",
    "An ndarray has an associated data-type object that defines the stored dtype.\n",
    "\n",
    "Items in an ndarray can be accessed via indexing and slicing.\n",
    "\n",
    "The ndarray has various methods and attributes for accessing and manipulating its contents.\n",
    "\n",
    "Separate ndarray instances can share contents, so changes in one can reflect in another when created as a \"view\" of another ndarray (the \"base\")."
   ]
  },
  {
   "cell_type": "code",
   "execution_count": 2,
   "id": "b5a1af71",
   "metadata": {},
   "outputs": [],
   "source": [
    "import numpy as np"
   ]
  },
  {
   "cell_type": "markdown",
   "id": "259ed69c",
   "metadata": {},
   "source": [
    "#### Creation"
   ]
  },
  {
   "cell_type": "code",
   "execution_count": 7,
   "id": "88af8a90",
   "metadata": {},
   "outputs": [
    {
     "name": "stdout",
     "output_type": "stream",
     "text": [
      "[[1 2 3]\n",
      " [4 5 6]\n",
      " [7 8 9]]\n",
      "\n",
      "[[1 1 1]\n",
      " [1 1 1]\n",
      " [1 1 1]]\n",
      "\n",
      "[[5 5]\n",
      " [5 5]]\n"
     ]
    }
   ],
   "source": [
    "nd1 = np.array([[1,2,3],[4,5,6],[7,8,9]]) #Creates a 2D array nd1 with the shape (3, 3).\n",
    "nd2 = np.ones_like(nd1) #Creates a new array nd2 with the same shape and dtype as nd1, but filled with ones\n",
    "nd3 = np.full((2,2),5) #Creates a 2x2 array nd3 filled with the value 5\n",
    "\n",
    "'''.ones() requires explicitly defined dimensions,\n",
    "while .ones_like() replicates the shape and dtype of an existing array.\n",
    "\n",
    "similarly this is applicable for .empty()/.empty_like(), .zeros()/.zeros_like(),.full()/.full_like()\n",
    "'''\n",
    "\n",
    "print(nd1)\n",
    "print() \n",
    "print(nd2)\n",
    "print() \n",
    "print(nd3)"
   ]
  },
  {
   "cell_type": "markdown",
   "id": "8e159968",
   "metadata": {},
   "source": [
    "#### Operations on an ndarray\n",
    "\n",
    ".. +\t        numpy.add(X,Y)\t \n",
    "\n",
    ".. -\t        numpy.subtract(X,Y)\t\n",
    "\n",
    ".. *\t        numpy.multiply(X,Y)\n",
    "\n",
    ".. /\t        numpy.divide(X,Y)\n",
    "\n",
    ".. **\t        numpy.power(X,Y)\t\n",
    "\n",
    ".. %\t        numpy.mod(X,Y)\n",
    "\n",
    ".. //\t        numpy.floor_divide(X,Y)\t\n",
    "\n",
    ".. @\t        numpy.matmul(X,Y)\tMatrix multiplication of arguments. (The @ operator was introduced in Python 3.5)"
   ]
  },
  {
   "cell_type": "code",
   "execution_count": 10,
   "id": "008d870a",
   "metadata": {},
   "outputs": [
    {
     "name": "stdout",
     "output_type": "stream",
     "text": [
      "[[1 2 3]\n",
      " [4 5 6]\n",
      " [7 8 9]]\n",
      "\n",
      "[[ 6  7  8]\n",
      " [ 9 10 11]\n",
      " [12 13 14]]\n",
      "\n",
      "[[1 0 1]\n",
      " [0 1 0]\n",
      " [1 0 1]]\n",
      "\n",
      "[[ 4  2  4]\n",
      " [10  5 10]\n",
      " [16  8 16]]\n"
     ]
    }
   ],
   "source": [
    "nd1 = np.array([[1,2,3],[4,5,6],[7,8,9]])\n",
    "\n",
    "print(nd1)\n",
    "print()\n",
    "print(nd1 + 5)\n",
    "print()\n",
    "print(nd1 % 2)\n",
    "print()\n",
    "print(np.matmul(nd1, nd1 % 2))"
   ]
  },
  {
   "cell_type": "markdown",
   "id": "d8c74a10",
   "metadata": {},
   "source": [
    "#### Other Methods\n",
    "\n",
    "\n",
    ".astype()\n",
    "Converts a NumPy array to a specified data type.\n",
    "\n",
    "\n",
    ".fiil()\n",
    "Fills a NumPy array with a specified scalar value.\n",
    "\n",
    "\n",
    ".flatten()\n",
    "Returns a one-dimensional copy of a given 2D array.\n",
    "\n",
    "\n",
    ".reshape()\n",
    "Rearranges the data of an ndarray into a new shape.\n",
    "\n",
    "\n",
    ".tolist()\n",
    "Converts an array into a nested list of Python scalars.\n",
    "\n",
    "\n",
    ".transpose()\n",
    "Reverses or permutes the axes of an ndarray.\n",
    "\n"
   ]
  },
  {
   "cell_type": "code",
   "execution_count": 12,
   "id": "24921c29",
   "metadata": {},
   "outputs": [
    {
     "name": "stdout",
     "output_type": "stream",
     "text": [
      "[[ 1  2  3  4]\n",
      " [ 5  6  7  8]\n",
      " [ 9 10 11 12]]\n"
     ]
    }
   ],
   "source": [
    "# 2D array with 3 rows and 4 columns\n",
    "array_2d = np.array([[1, 2, 3, 4],\n",
    "                     [5, 6, 7, 8],\n",
    "                     [9, 10, 11, 12]])\n",
    "\n",
    "print(array_2d)"
   ]
  },
  {
   "cell_type": "code",
   "execution_count": 16,
   "id": "b5dbe855",
   "metadata": {},
   "outputs": [
    {
     "name": "stdout",
     "output_type": "stream",
     "text": [
      "Min value of the entire array: 1\n",
      "Max value of the entire array: 12\n",
      "Min value along each column: [1 2 3 4]\n",
      "Max value along each column: [ 9 10 11 12]\n",
      "Min value along each row: [1 5 9]\n",
      "Max value along each row: [ 4  8 12]\n"
     ]
    }
   ],
   "source": [
    "#min val across the entire array\n",
    "min_val = np.min(array_2d)\n",
    "\n",
    "#min val across the entire array\n",
    "max_val = np.max(array_2d)\n",
    "\n",
    "# Compute the minimum value along each column (axis=0)\n",
    "min_value_col = np.min(array_2d, axis=0)\n",
    "\n",
    "# Compute the minimum value along each column (axis=0)\n",
    "max_value_col = np.max(array_2d, axis=0)\n",
    "\n",
    "# Compute the minimum value along each row (axis=1)\n",
    "min_value_row = np.min(array_2d, axis=1)\n",
    "\n",
    "# Compute the minimum value along each row (axis=1)\n",
    "max_value_row = np.max(array_2d, axis=1)\n",
    "\n",
    "# Display the results\n",
    "print(f\"Min value of the entire array: {min_val}\")\n",
    "print(f\"Max value of the entire array: {max_val}\")\n",
    "print(f\"Min value along each column: {min_value_col}\")\n",
    "print(f\"Max value along each column: {max_value_col}\")\n",
    "print(f\"Min value along each row: {min_value_row}\")\n",
    "print(f\"Max value along each row: {max_value_row}\")"
   ]
  },
  {
   "cell_type": "markdown",
   "id": "43078fe2",
   "metadata": {},
   "source": [
    "#### To convert a Pandas DataFrame into a NumPy ndarray, you can use the .to_numpy() method. This method returns the underlying data of the DataFrame as a NumPy array.\n",
    "\n",
    "#####  When to Convert:\n",
    "If you need to perform complex numerical or matrix operations (such as using matrix factorization, linear algebra, etc.).\n",
    "\n",
    "If you want to use the array in machine learning frameworks or scientific libraries that accept NumPy arrays.\n",
    "\n",
    "If you no longer need the rich functionality of Pandas (like indexing, missing data handling, or column labels), and want to focus on efficient computation.\n",
    "\n",
    "\n",
    "##### When Not to Convert:\n",
    "If your data involves mixed types (e.g., numeric and categorical), as NumPy arrays typically require homogenous types across the array.\n",
    "\n",
    "If you need to make frequent use of Pandas’ high-level features, such as groupby, filtering, or complex indexing. In this case, keeping the data in a Pandas DataFrame is more beneficial.\n",
    "\n",
    "\n",
    "#### Key Points:\n",
    "2D is the default dimension of a Pandas DataFrame (rows and columns).\n",
    "\n",
    "1D DataFrames can exist if there’s only one column, but it’s typically treated as a Series.\n",
    "\n",
    "Higher dimensions (such as 3D or beyond) aren’t natively supported by DataFrames but can be simulated with MultiIndex or by using other data structures like Panel (deprecated). However, working with multi-dimensional data structures in Pandas usually requires handling complex indexing or using other libraries like xarray for true multidimensional support.\n",
    "\n",
    "\n"
   ]
  },
  {
   "cell_type": "code",
   "execution_count": 18,
   "id": "5b63537c",
   "metadata": {},
   "outputs": [
    {
     "name": "stdout",
     "output_type": "stream",
     "text": [
      "DataFrame:\n",
      "   A  B  C\n",
      "0  1  4  7\n",
      "1  2  5  8\n",
      "2  3  6  9\n",
      "\n",
      "Converted ndarray:\n",
      "[[1 4 7]\n",
      " [2 5 8]\n",
      " [3 6 9]]\n"
     ]
    }
   ],
   "source": [
    "import pandas as pd\n",
    "\n",
    "# Create a simple DataFrame\n",
    "data = {'A': [1, 2, 3],\n",
    "        'B': [4, 5, 6],\n",
    "        'C': [7, 8, 9]}\n",
    "\n",
    "df = pd.DataFrame(data)\n",
    "\n",
    "# Convert DataFrame to ndarray\n",
    "ndarray = df.to_numpy()\n",
    "\n",
    "print(\"DataFrame:\")\n",
    "print(df)\n",
    "print(\"\\nConverted ndarray:\")\n",
    "print(ndarray)\n"
   ]
  },
  {
   "cell_type": "markdown",
   "id": "ddc71494",
   "metadata": {},
   "source": [
    "#### In Python, both array and ndarray are used for handling arrays of data, but they belong to different libraries and have some important distinctions. Here's a breakdown of the differences:\n",
    "\n",
    "1. Origin and Libraries:\n",
    "\n",
    "array: This is part of Python's standard library (array module) and is used for creating arrays of homogeneous data types (i.e., arrays where all elements must be of the same type).\n",
    "\n",
    "ndarray: This is part of NumPy, a popular library for numerical computing in Python. The ndarray is NumPy's core data structure and is used for handling n-dimensional arrays of homogeneous data types.\n",
    "\n",
    "2. Capabilities:\n",
    "\n",
    "array:\n",
    "\n",
    "Limited functionality compared to ndarray.\n",
    "\n",
    "Primarily for basic, lower-level array operations (such as iteration, slicing, and element access).\n",
    "\n",
    "Supports fewer operations for mathematical and vectorized calculations.\n",
    "\n",
    "\n",
    "ndarray:\n",
    "\n",
    "Supports a wide range of operations, including element-wise arithmetic, linear algebra, broadcasting, and many other powerful functions.\n",
    "\n",
    "Built to handle large multi-dimensional arrays efficiently.\n",
    "\n",
    "Integrates with other libraries for numerical and scientific computing (e.g., SciPy, pandas).\n",
    "\n",
    "3. Performance:\n",
    "\n",
    "array: Suitable for smaller-scale arrays or when you don't need advanced mathematical functionality. Its performance is generally slower compared to ndarray because it's part of the standard library with fewer optimizations.\n",
    "\n",
    "ndarray: Highly optimized for numerical operations, especially with large arrays. NumPy arrays are implemented in C and are much faster for numerical computing.\n",
    "\n",
    "4. Dimensionality:\n",
    "\n",
    "array: Limited to one-dimensional or simple multi-dimensional arrays.\n",
    "\n",
    "ndarray: Can represent arrays of any number of dimensions (1D, 2D, 3D, etc.), allowing you to work with complex structures like matrices and tensors.\n",
    "\n",
    "\n",
    "5. Memory:\n",
    "\n",
    "array: More memory-efficient for simple arrays of homogeneous data types (such as integers or floats) compared to Python lists.\n",
    "\n",
    "ndarray: More efficient in terms of memory layout and handling of large datasets. It uses contiguous blocks of memory to store the data, which leads to better cache locality and faster access.\n",
    "\n",
    "\n",
    "6. Data Type Support:\n",
    "\n",
    "array: Only supports a limited number of basic data types such as int, float, and char.\n",
    "\n",
    "ndarray: Supports a wide variety of numerical types, including integers, floats, complex numbers, and even custom data types via structured arrays.\n",
    "\n",
    "8. Slicing and Indexing:\n",
    "\n",
    "array: Supports basic slicing and indexing operations, but its capabilities are limited compared to NumPy arrays.\n",
    "\n",
    "ndarray: Supports advanced indexing, slicing, and fancy indexing. It also supports multidimensional slicing, which is essential when working with matrices or higher-dimensional arrays.\n",
    "\n"
   ]
  },
  {
   "cell_type": "code",
   "execution_count": 21,
   "id": "42f415b3",
   "metadata": {},
   "outputs": [
    {
     "name": "stdout",
     "output_type": "stream",
     "text": [
      "array('d', [1.0, 2.5, 3.7])\n",
      "[1.  2.5 3.7]\n"
     ]
    }
   ],
   "source": [
    "# Using Python array\n",
    "import array\n",
    "arr = array.array('d', [1.0, 2.5, 3.7])\n",
    "print(arr)\n",
    "\n",
    "# Using NumPy ndarray\n",
    "import numpy as np\n",
    "arr_np = np.array([1.0, 2.5, 3.7])\n",
    "print(arr_np)\n"
   ]
  },
  {
   "cell_type": "markdown",
   "id": "b9ce18a1",
   "metadata": {},
   "source": [
    "#### Vectorization is Important in NumPy:\n",
    "\n",
    "Performance: Vectorized operations are executed in C under the hood, which is significantly faster than Python loops.\n",
    "\n",
    "Code Simplicity: Vectorized operations simplify the code and make it more readable.\n",
    "\n",
    "Memory Efficiency: NumPy’s vectorized operations are memory-efficient, as they avoid creating temporary arrays (unlike loops, which might generate unnecessary intermediate results).\n",
    "\n",
    "### Notes:\n",
    "\n",
    "1. Scalar and Array Operations\n",
    "\n",
    "You can perform operations between scalars and arrays, and NumPy automatically broadcasts the scalar value to each element of the array.\n",
    "\n",
    "2. Mathematical Functions\n",
    "\n",
    "NumPy provides many built-in vectorized functions (ufuncs) that can be applied directly to arrays. for e.g. np.sqrt(arr)\n",
    "\n",
    "3. Broadcasting (Handling Arrays of Different Shapes)\n",
    "\n",
    "Broadcasting is a powerful feature of NumPy that allows operations on arrays of different shapes without the need for explicit replication.\n",
    "\n",
    "4. Conditional Vectorized Operations (Using np.where)\n",
    "\n",
    "NumPy allows you to apply conditional operations on arrays, which can be vectorized efficiently.\n",
    "\n",
    "5. Vectorized Aggregations (Sum, Mean, etc.)\n",
    "\n",
    "You can perform aggregations like sum, mean, and standard deviation on entire arrays or along specific axes without the need for loops.\n",
    "\n",
    "6. Vectorized Linear Algebra Operations\n",
    "\n",
    "NumPy also supports vectorized operations for linear algebra, like matrix multiplication.\n"
   ]
  },
  {
   "cell_type": "code",
   "execution_count": 24,
   "id": "9c5e20c9",
   "metadata": {},
   "outputs": [
    {
     "name": "stdout",
     "output_type": "stream",
     "text": [
      "[ 6  8 10 12]\n",
      "[ 6  8 10 12]\n"
     ]
    }
   ],
   "source": [
    "#without vectorization, using loops\n",
    "\n",
    "# Two 1D arrays\n",
    "arr1 = np.array([1, 2, 3, 4])\n",
    "arr2 = np.array([5, 6, 7, 8])\n",
    "\n",
    "# Using loops\n",
    "result = np.zeros_like(arr1)\n",
    "for i in range(len(arr1)):\n",
    "    result[i] = arr1[i] + arr2[i]\n",
    "print(result)  # Output: [ 6  8 10 12]\n",
    "\n",
    "\n",
    "\n",
    "#with vectorization\n",
    "\n",
    "# Two 1D arrays\n",
    "arr1 = np.array([1, 2, 3, 4])\n",
    "arr2 = np.array([5, 6, 7, 8])\n",
    "\n",
    "# Vectorized operation\n",
    "result = arr1 + arr2\n",
    "print(result)  # Output: [ 6  8 10 12]\n",
    "\n"
   ]
  },
  {
   "cell_type": "markdown",
   "id": "c1288630",
   "metadata": {},
   "source": [
    "### Problem 1: Calculate Euclidean distance\n",
    "\n"
   ]
  },
  {
   "cell_type": "code",
   "execution_count": 25,
   "id": "f563a768",
   "metadata": {},
   "outputs": [
    {
     "name": "stdout",
     "output_type": "stream",
     "text": [
      "Euclidean Distance: 5.196152422706632\n"
     ]
    }
   ],
   "source": [
    "import numpy as np\n",
    "\n",
    "# Two points\n",
    "point1 = np.array([1, 2, 3])\n",
    "point2 = np.array([4, 5, 6])\n",
    "\n",
    "# \n",
    "distance = np.linalg.norm(point1 - point2)\n",
    "\n",
    "print(\"Euclidean Distance:\", distance)"
   ]
  },
  {
   "cell_type": "markdown",
   "id": "6fc84449",
   "metadata": {},
   "source": [
    "### Problem 2: Find all occurences of an element in a list"
   ]
  },
  {
   "cell_type": "code",
   "execution_count": 32,
   "id": "ad73254f",
   "metadata": {},
   "outputs": [
    {
     "name": "stdout",
     "output_type": "stream",
     "text": [
      "[1, 3, 5]\n",
      "[6, 8]\n",
      "[2]\n"
     ]
    }
   ],
   "source": [
    "#Using python loops\n",
    "\n",
    "my_list = [1, 2, 3, 2, 4, 2, 5, 6, 5]\n",
    "element = 2 \n",
    "\n",
    "indices = []\n",
    "\n",
    "for i in range(len(my_list)):\n",
    "    if my_list[i] == element:\n",
    "        indices.append(i)\n",
    "\n",
    "print(indices)\n",
    "\n",
    "\n",
    "\n",
    "\n",
    "#using enummerate + comprehension\n",
    "\n",
    "element2 = 5\n",
    "\n",
    "indices2 = []\n",
    "\n",
    "indices2 = [i for i, x in enumerate(my_list) if x == element2]\n",
    "\n",
    "print(indices2)\n",
    "\n",
    "#using numpy where\n",
    "\n",
    "element3 = 3\n",
    "\n",
    "my_list = np.array(my_list)\n",
    "indices3 = np.where(my_list == element3)[0]\n",
    "\n",
    "print(indices3)\n",
    "\n"
   ]
  },
  {
   "cell_type": "markdown",
   "id": "3709deb1",
   "metadata": {},
   "source": [
    "### Problem 3: Access ith column  of numpy multidimensional array\n",
    "\n"
   ]
  },
  {
   "cell_type": "code",
   "execution_count": 36,
   "id": "1c1874ef",
   "metadata": {},
   "outputs": [
    {
     "name": "stdout",
     "output_type": "stream",
     "text": [
      "[ 2  6 10]\n"
     ]
    }
   ],
   "source": [
    "# A 2D array (3x4 matrix)\n",
    "arr = np.array([[1, 2, 3, 4],\n",
    "                [5, 6, 7, 8],\n",
    "                [9, 10, 11, 12]])\n",
    "\n",
    "print(arr[:,1])  #i = 1"
   ]
  },
  {
   "cell_type": "markdown",
   "id": "895fd6e8",
   "metadata": {},
   "source": [
    "### Problem 4: Convert array of indices to one-hot encoded numpy array"
   ]
  },
  {
   "cell_type": "markdown",
   "id": "386985e8",
   "metadata": {},
   "source": [
    "### Problem 5: Convert numpy array to categorical array"
   ]
  },
  {
   "cell_type": "code",
   "execution_count": 39,
   "id": "597f0b72",
   "metadata": {},
   "outputs": [
    {
     "name": "stdout",
     "output_type": "stream",
     "text": [
      "['1' '2' '3' '4' '5']\n",
      "[1 2 3 4 5]\n"
     ]
    }
   ],
   "source": [
    "# Numerical array\n",
    "numerical_array = np.array([1, 2, 3, 4, 5])\n",
    "\n",
    "# Categorical Array\n",
    "cat_array = numerical_array.astype(str)\n",
    "\n",
    "print(cat_array)\n",
    "print(numerical_array)"
   ]
  },
  {
   "cell_type": "markdown",
   "id": "dddd7683",
   "metadata": {},
   "source": [
    "### Problem 6: How would you get N-max values in a numpy array?\n",
    "\n",
    "#### Hint:\n",
    "Use np.sort() or np.argsort() for small to medium arrays.\n",
    "\n",
    "Use np.argpartition() for large arrays or when performance is critical."
   ]
  },
  {
   "cell_type": "markdown",
   "id": "edc34cc6",
   "metadata": {},
   "source": [
    "### Problem 7: Find local maxima in a 1D and 3D array?"
   ]
  },
  {
   "cell_type": "markdown",
   "id": "68ad12b0",
   "metadata": {},
   "source": [
    "### Problem 8: np.transpose() vs eisum() with example"
   ]
  },
  {
   "cell_type": "markdown",
   "id": "f05a964d",
   "metadata": {},
   "source": [
    "### Problem 9: Reverse a numpy array for 1D and 2D\n",
    "#### Also practice for 3D"
   ]
  },
  {
   "cell_type": "code",
   "execution_count": 40,
   "id": "4c2a2232",
   "metadata": {},
   "outputs": [
    {
     "name": "stdout",
     "output_type": "stream",
     "text": [
      "Original Array: [1 2 3 4 5]\n",
      "Reversed Array: [5 4 3 2 1]\n"
     ]
    }
   ],
   "source": [
    "# Example 1D array\n",
    "arr = np.array([1, 2, 3, 4, 5])\n",
    "\n",
    "# Reverse the array\n",
    "reversed_arr = arr[::-1]\n",
    "\n",
    "print(\"Original Array:\", arr)\n",
    "print(\"Reversed Array:\", reversed_arr)\n"
   ]
  },
  {
   "cell_type": "code",
   "execution_count": 53,
   "id": "99f89dfd",
   "metadata": {},
   "outputs": [
    {
     "name": "stdout",
     "output_type": "stream",
     "text": [
      "Original Array:\n",
      " [[1 2 3]\n",
      " [4 5 6]\n",
      " [7 8 9]]\n",
      "Reversed Rows:\n",
      " [[7 8 9]\n",
      " [4 5 6]\n",
      " [1 2 3]]\n",
      "Reversed Columns:\n",
      " [[3 2 1]\n",
      " [6 5 4]\n",
      " [9 8 7]]\n",
      "Reversed both:\n",
      " [[9 8 7]\n",
      " [6 5 4]\n",
      " [3 2 1]]\n"
     ]
    }
   ],
   "source": [
    "import numpy as np\n",
    "\n",
    "# Example 2D array\n",
    "arr_2D = np.array([[1, 2, 3], [4, 5, 6], [7, 8, 9]])\n",
    "\n",
    "# Reverse the array along the rows\n",
    "reversed_rows = arr_2D[::-1]\n",
    "\n",
    "print(\"Original Array:\\n\", arr_2D)\n",
    "print(\"Reversed Rows:\\n\", reversed_rows)\n",
    "\n",
    "#along colums\n",
    "rev_col = arr_2D[:,::-1]\n",
    "print(\"Reversed Columns:\\n\", rev_col)\n",
    "\n",
    "#both rows and columns\n",
    "rev_both = arr_2D[::-1,::-1]\n",
    "print(\"Reversed both:\\n\", rev_both)"
   ]
  },
  {
   "cell_type": "markdown",
   "id": "f5b731a5",
   "metadata": {},
   "source": [
    "### Problem 10: test[:,0] vs test[:,[0]]"
   ]
  },
  {
   "cell_type": "markdown",
   "id": "473bfda7",
   "metadata": {},
   "source": [
    "### Problem 11: Create subarrays with a sliding window of size 4\n",
    "\n",
    "##### E.g input_arr = [1, 2, 3, 4, 5, 6, 7, 8, 9, 10, 11, 12, 13, 14], \n",
    " output =  [[1, 2, 3, 4], \n",
    " [2, 3, 4, 5], \n",
    " [3, 4, 5, 6], \n",
    " [4, 5, 6, 7], \n",
    " [5, 6, 7, 8], \n",
    " [6, 7, 8, 9], \n",
    " [7, 8, 9, 10], \n",
    " [8, 9, 10, 11], \n",
    " [9, 10, 11, 12], \n",
    " [10, 11, 12, 13], \n",
    " [11, 12, 13, 14]]\n",
    "\n"
   ]
  },
  {
   "cell_type": "code",
   "execution_count": null,
   "id": "c6d32013",
   "metadata": {},
   "outputs": [],
   "source": [
    "arr_4 = [1, 2, 3, 4, 5, 6, 7, 8, 9, 10, 11, 12, 13, 14]\n",
    "\n",
    "# Create subarrays with a sliding window of size 4\n",
    "result = [arr[i:i + 4] for i in range(len(arr) - 3)]\n",
    "\n",
    "print(result)\n",
    "\n",
    "\n",
    "'''\n",
    "Explanation:\n",
    "range(len(arr) - 3):\n",
    "Ensures the loop stops in a way that a complete subarray of size 4 can be formed.\n",
    "arr[i:i + 4]:\n",
    "Slices the list starting from index i to i + 4 (exclusive).\n",
    "The result is a list of overlapping subarrays of size 4.\n",
    "'''\n"
   ]
  }
 ],
 "metadata": {
  "kernelspec": {
   "display_name": "Python 3 (ipykernel)",
   "language": "python",
   "name": "python3"
  },
  "language_info": {
   "codemirror_mode": {
    "name": "ipython",
    "version": 3
   },
   "file_extension": ".py",
   "mimetype": "text/x-python",
   "name": "python",
   "nbconvert_exporter": "python",
   "pygments_lexer": "ipython3",
   "version": "3.11.7"
  }
 },
 "nbformat": 4,
 "nbformat_minor": 5
}
